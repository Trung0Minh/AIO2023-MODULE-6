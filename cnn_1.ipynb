{
  "cells": [
    {
      "cell_type": "markdown",
      "metadata": {
        "id": "view-in-github",
        "colab_type": "text"
      },
      "source": [
        "<a href=\"https://colab.research.google.com/github/Trung0Minh/AIO2023-MODULE-6/blob/main/cnn_1.ipynb\" target=\"_parent\"><img src=\"https://colab.research.google.com/assets/colab-badge.svg\" alt=\"Open In Colab\"/></a>"
      ]
    },
    {
      "cell_type": "code",
      "source": [
        "import os\n",
        "import random\n",
        "import numpy as np\n",
        "import torch\n",
        "import torch.nn as nn\n",
        "import torch.optim as optim\n",
        "import torch.nn.functional as F\n",
        "import torch.utils.data as data\n",
        "import torchvision.transforms as transforms\n",
        "import torchvision.datasets as datasets\n",
        "from torchsummary import summary\n",
        "import matplotlib.pyplot as plt\n",
        "from PIL import Image\n",
        "\n",
        "ROOT = './data'\n",
        "train_data = datasets.MNIST(root=ROOT, train=True, download=True)\n",
        "test_data = datasets.MNIST(root=ROOT, train=False, download=True)"
      ],
      "metadata": {
        "colab": {
          "base_uri": "https://localhost:8080/"
        },
        "id": "Ag5W2rs4m9cS",
        "outputId": "5ae82180-80d3-43e5-9ad1-f1d72cf4c367"
      },
      "execution_count": null,
      "outputs": [
        {
          "output_type": "stream",
          "name": "stdout",
          "text": [
            "Downloading http://yann.lecun.com/exdb/mnist/train-images-idx3-ubyte.gz\n",
            "Failed to download (trying next):\n",
            "HTTP Error 404: Not Found\n",
            "\n",
            "Downloading https://ossci-datasets.s3.amazonaws.com/mnist/train-images-idx3-ubyte.gz\n",
            "Downloading https://ossci-datasets.s3.amazonaws.com/mnist/train-images-idx3-ubyte.gz to ./data/MNIST/raw/train-images-idx3-ubyte.gz\n"
          ]
        },
        {
          "output_type": "stream",
          "name": "stderr",
          "text": [
            "100%|██████████| 9.91M/9.91M [00:00<00:00, 38.9MB/s]\n"
          ]
        },
        {
          "output_type": "stream",
          "name": "stdout",
          "text": [
            "Extracting ./data/MNIST/raw/train-images-idx3-ubyte.gz to ./data/MNIST/raw\n",
            "\n",
            "Downloading http://yann.lecun.com/exdb/mnist/train-labels-idx1-ubyte.gz\n",
            "Failed to download (trying next):\n",
            "HTTP Error 404: Not Found\n",
            "\n",
            "Downloading https://ossci-datasets.s3.amazonaws.com/mnist/train-labels-idx1-ubyte.gz\n",
            "Downloading https://ossci-datasets.s3.amazonaws.com/mnist/train-labels-idx1-ubyte.gz to ./data/MNIST/raw/train-labels-idx1-ubyte.gz\n"
          ]
        },
        {
          "output_type": "stream",
          "name": "stderr",
          "text": [
            "100%|██████████| 28.9k/28.9k [00:00<00:00, 1.18MB/s]\n"
          ]
        },
        {
          "output_type": "stream",
          "name": "stdout",
          "text": [
            "Extracting ./data/MNIST/raw/train-labels-idx1-ubyte.gz to ./data/MNIST/raw\n",
            "\n",
            "Downloading http://yann.lecun.com/exdb/mnist/t10k-images-idx3-ubyte.gz\n",
            "Failed to download (trying next):\n",
            "HTTP Error 404: Not Found\n",
            "\n",
            "Downloading https://ossci-datasets.s3.amazonaws.com/mnist/t10k-images-idx3-ubyte.gz\n",
            "Downloading https://ossci-datasets.s3.amazonaws.com/mnist/t10k-images-idx3-ubyte.gz to ./data/MNIST/raw/t10k-images-idx3-ubyte.gz\n"
          ]
        },
        {
          "output_type": "stream",
          "name": "stderr",
          "text": [
            "100%|██████████| 1.65M/1.65M [00:00<00:00, 10.6MB/s]\n"
          ]
        },
        {
          "output_type": "stream",
          "name": "stdout",
          "text": [
            "Extracting ./data/MNIST/raw/t10k-images-idx3-ubyte.gz to ./data/MNIST/raw\n",
            "\n",
            "Downloading http://yann.lecun.com/exdb/mnist/t10k-labels-idx1-ubyte.gz\n",
            "Failed to download (trying next):\n",
            "HTTP Error 404: Not Found\n",
            "\n",
            "Downloading https://ossci-datasets.s3.amazonaws.com/mnist/t10k-labels-idx1-ubyte.gz\n",
            "Downloading https://ossci-datasets.s3.amazonaws.com/mnist/t10k-labels-idx1-ubyte.gz to ./data/MNIST/raw/t10k-labels-idx1-ubyte.gz\n"
          ]
        },
        {
          "output_type": "stream",
          "name": "stderr",
          "text": [
            "100%|██████████| 4.54k/4.54k [00:00<00:00, 6.80MB/s]"
          ]
        },
        {
          "output_type": "stream",
          "name": "stdout",
          "text": [
            "Extracting ./data/MNIST/raw/t10k-labels-idx1-ubyte.gz to ./data/MNIST/raw\n",
            "\n"
          ]
        },
        {
          "output_type": "stream",
          "name": "stderr",
          "text": [
            "\n"
          ]
        }
      ]
    },
    {
      "cell_type": "code",
      "source": [
        "VALID_RATIO = 0.9\n",
        "\n",
        "n_train_examples = int(len(train_data) * VALID_RATIO)\n",
        "n_valid_examples = len(train_data) - n_train_examples\n",
        "\n",
        "train_data, valid_data = data.random_split(train_data, [n_train_examples, n_valid_examples])\n",
        "\n",
        "mean = train_data.dataset.data.float().mean() / 255\n",
        "std = train_data.dataset.data.float().std() / 255\n",
        "\n",
        "train_transforms = transforms.Compose([\n",
        "    transforms.ToTensor(),\n",
        "    transforms.Normalize(mean, std)\n",
        "])\n",
        "\n",
        "test_transforms = transforms.Compose([\n",
        "    transforms.ToTensor(),\n",
        "    transforms.Normalize(mean, std)\n",
        "])\n",
        "\n",
        "train_data.dataset.transform = train_transforms\n",
        "valid_data.dataset.transform = train_transforms\n",
        "\n",
        "BATCH_SIZE = 256\n",
        "\n",
        "train_dataloader = data.DataLoader(train_data, batch_size=BATCH_SIZE, shuffle=True)\n",
        "valid_dataloader = data.DataLoader(valid_data, batch_size=BATCH_SIZE)"
      ],
      "metadata": {
        "id": "ZgHxK3M-nQER"
      },
      "execution_count": null,
      "outputs": []
    },
    {
      "cell_type": "code",
      "source": [
        "train_dataloader"
      ],
      "metadata": {
        "colab": {
          "base_uri": "https://localhost:8080/"
        },
        "id": "PbVpvNRNx64h",
        "outputId": "1cd16333-d108-47b3-c219-593c81fbdf0f"
      },
      "execution_count": null,
      "outputs": [
        {
          "output_type": "execute_result",
          "data": {
            "text/plain": [
              "<torch.utils.data.dataloader.DataLoader at 0x7ca88d50b5d0>"
            ]
          },
          "metadata": {},
          "execution_count": 14
        }
      ]
    },
    {
      "cell_type": "code",
      "source": [
        "class LeNetClassifier(nn.Module):\n",
        "    def __init__(self, num_classes):\n",
        "        super(LeNetClassifier, self).__init__()\n",
        "        self.layers = nn.Sequential(\n",
        "            nn.Conv2d(in_channels=1, out_channels=6, kernel_size=5, padding='same'),\n",
        "            nn.AvgPool2d(kernel_size=2),\n",
        "            nn.ReLU(),\n",
        "            nn.Conv2d(6, 16, 5),\n",
        "            nn.AvgPool2d(2),\n",
        "            nn.ReLU(),\n",
        "            nn.Flatten(),\n",
        "            nn.Linear(16*5*5, 120),\n",
        "            nn.ReLU(),\n",
        "            nn.Linear(120, 84),\n",
        "            nn.ReLU(),\n",
        "            nn.Linear(84, num_classes)\n",
        "        )\n",
        "\n",
        "    def forward(self, x):\n",
        "        return self.layers(x)"
      ],
      "metadata": {
        "id": "_EaYLtNGp_--"
      },
      "execution_count": null,
      "outputs": []
    },
    {
      "cell_type": "code",
      "source": [
        "def train(model, optimizer, criterion, train_dataloader, device, epoch, log_interval=50):\n",
        "    model.train()\n",
        "    losses = []\n",
        "    total_count = 0\n",
        "    train_acc = 0\n",
        "\n",
        "    for idx, (X, y) in enumerate(train_dataloader):\n",
        "        X, y = X.to(device), y.to(device)\n",
        "        optimizer.zero_grad()\n",
        "\n",
        "        y_pred = model(X)\n",
        "\n",
        "        loss = criterion(y_pred, y)\n",
        "        losses.append(loss)\n",
        "\n",
        "        loss.backward()\n",
        "        torch.nn.utils.clip_grad_norm_(model.parameters(), 0.1)\n",
        "        optimizer.step()\n",
        "\n",
        "        train_acc += (y_pred.argmax(dim=1) == y).sum().item()\n",
        "        total_count += y.size(0)\n",
        "\n",
        "        if idx % log_interval == 0:\n",
        "            print(f'Epoch: {epoch} | Batch {idx}/{len(train_dataloader)} | Accuracy {train_acc / total_count} | Loss: {loss.item():.6f}')\n",
        "            print(len(y))\n",
        "\n",
        "    total_loss = sum(losses) / len(losses)\n",
        "    total_acc = train_acc / len(train_dataloader)\n",
        "    return total_loss, total_acc"
      ],
      "metadata": {
        "id": "U39AMtKTr1-i"
      },
      "execution_count": null,
      "outputs": []
    },
    {
      "cell_type": "code",
      "source": [
        "def evaluate(model, criterion, valid_dataloader, device=None):\n",
        "    model.eval()\n",
        "    total_acc, total_count = 0, 0\n",
        "    losses = []\n",
        "\n",
        "    with torch.no_grad():\n",
        "        for X, y in valid_dataloader:\n",
        "            X, y = X.to(device), y.to(device)\n",
        "            y_pred = model(X)\n",
        "            loss = criterion(y_pred, y)\n",
        "            losses.append(loss)\n",
        "            total_acc += (y_pred.argmax(dim=1) == y).sum().item()\n",
        "            total_count += y.size(0)\n",
        "\n",
        "    total_loss = sum(losses) / len(losses)\n",
        "    total_acc = total_acc / total_count\n",
        "    return total_loss, total_acc"
      ],
      "metadata": {
        "id": "E5_6y5kAwVoa"
      },
      "execution_count": null,
      "outputs": []
    },
    {
      "cell_type": "code",
      "source": [
        "num_classes = len(train_data.dataset.classes)\n",
        "\n",
        "device = torch.device('cuda' if torch.cuda.is_available() else 'cpu')\n",
        "model = LeNetClassifier(num_classes).to(device)\n",
        "\n",
        "criterion = torch.nn.CrossEntropyLoss()\n",
        "optimizer = optim.Adam(model.parameters(), lr=0.001)\n",
        "\n",
        "num_epochs = 10\n",
        "save_model = './model'\n",
        "\n",
        "train_accs, train_losses = [], []\n",
        "eval_accs, eval_losses = [], []\n",
        "best_loss_eval = 100\n",
        "\n",
        "for epoch in range(1, num_epochs + 1):\n",
        "    train_loss, train_acc = train(model, optimizer, criterion, train_dataloader, device, epoch)\n",
        "    train_accs.append(train_acc)\n",
        "    train_losses.append(train_loss)\n",
        "\n",
        "    eval_loss, eval_acc = evaluate(model, criterion, valid_dataloader, device)\n",
        "    eval_accs.append(eval_acc)\n",
        "    eval_losses.append(eval_loss)\n",
        "\n",
        "    if eval_loss < best_loss_eval:\n",
        "        torch.save(model.state_dict(), os.path.join(save_model + '/best_model.pt'))\n",
        "\n",
        "    print(f'Epoch: {epoch} | Train Loss: {train_loss:.6f} | Train Acc: {train_acc:.6f} | Eval Loss: {eval_loss:.6f} | Eval Acc: {eval_acc:.6f}')"
      ],
      "metadata": {
        "colab": {
          "base_uri": "https://localhost:8080/"
        },
        "id": "zlTwnfYiwwuB",
        "outputId": "c6dce81b-c4d0-4dbd-d45f-33da105a4ec7"
      },
      "execution_count": null,
      "outputs": [
        {
          "output_type": "stream",
          "name": "stdout",
          "text": [
            "Epoch: 1 | Batch 0/211 | Accuracy 0.08203125 | Loss: 2.306947\n",
            "256\n",
            "Epoch: 1 | Batch 50/211 | Accuracy 0.6056219362745098 | Loss: 0.509246\n",
            "256\n",
            "Epoch: 1 | Batch 100/211 | Accuracy 0.7344910272277227 | Loss: 0.378025\n",
            "256\n",
            "Epoch: 1 | Batch 150/211 | Accuracy 0.7869412251655629 | Loss: 0.358728\n",
            "256\n",
            "Epoch: 1 | Batch 200/211 | Accuracy 0.8187189054726368 | Loss: 0.281572\n",
            "256\n",
            "Epoch: 1 | Train Loss: 0.618307 | Train Acc: 210.720379 | Eval Loss: 0.230575 | Eval Acc: 232.458333\n",
            "Epoch: 2 | Batch 0/211 | Accuracy 0.93359375 | Loss: 0.175648\n",
            "256\n",
            "Epoch: 2 | Batch 50/211 | Accuracy 0.9278492647058824 | Loss: 0.213764\n",
            "256\n",
            "Epoch: 2 | Batch 100/211 | Accuracy 0.9355275371287128 | Loss: 0.228739\n",
            "256\n",
            "Epoch: 2 | Batch 150/211 | Accuracy 0.9423892798013245 | Loss: 0.161660\n",
            "256\n",
            "Epoch: 2 | Batch 200/211 | Accuracy 0.9466923196517413 | Loss: 0.119487\n",
            "256\n",
            "Epoch: 2 | Train Loss: 0.172652 | Train Acc: 242.454976 | Eval Loss: 0.122340 | Eval Acc: 240.625000\n",
            "Epoch: 3 | Batch 0/211 | Accuracy 0.94921875 | Loss: 0.162842\n",
            "256\n",
            "Epoch: 3 | Batch 50/211 | Accuracy 0.965609681372549 | Loss: 0.074560\n",
            "256\n",
            "Epoch: 3 | Batch 100/211 | Accuracy 0.9666615099009901 | Loss: 0.105845\n",
            "256\n",
            "Epoch: 3 | Batch 150/211 | Accuracy 0.9679221854304636 | Loss: 0.097800\n",
            "256\n",
            "Epoch: 3 | Batch 200/211 | Accuracy 0.968788868159204 | Loss: 0.058341\n",
            "256\n",
            "Epoch: 3 | Train Loss: 0.098520 | Train Acc: 248.014218 | Eval Loss: 0.078666 | Eval Acc: 244.250000\n",
            "Epoch: 4 | Batch 0/211 | Accuracy 0.984375 | Loss: 0.053089\n",
            "256\n",
            "Epoch: 4 | Batch 50/211 | Accuracy 0.9778645833333334 | Loss: 0.071221\n",
            "256\n",
            "Epoch: 4 | Batch 100/211 | Accuracy 0.9769492574257426 | Loss: 0.100277\n",
            "256\n",
            "Epoch: 4 | Batch 150/211 | Accuracy 0.9771574917218543 | Loss: 0.043362\n",
            "256\n",
            "Epoch: 4 | Batch 200/211 | Accuracy 0.9771066542288557 | Loss: 0.072550\n",
            "256\n",
            "Epoch: 4 | Train Loss: 0.073077 | Train Acc: 250.042654 | Eval Loss: 0.069508 | Eval Acc: 244.625000\n",
            "Epoch: 5 | Batch 0/211 | Accuracy 0.98046875 | Loss: 0.052943\n",
            "256\n",
            "Epoch: 5 | Batch 50/211 | Accuracy 0.9811580882352942 | Loss: 0.118478\n",
            "256\n",
            "Epoch: 5 | Batch 100/211 | Accuracy 0.9809715346534653 | Loss: 0.049029\n",
            "256\n",
            "Epoch: 5 | Batch 150/211 | Accuracy 0.980572226821192 | Loss: 0.032889\n",
            "256\n",
            "Epoch: 5 | Batch 200/211 | Accuracy 0.9811295087064676 | Loss: 0.053250\n",
            "256\n",
            "Epoch: 5 | Train Loss: 0.059726 | Train Acc: 251.161137 | Eval Loss: 0.069706 | Eval Acc: 244.791667\n",
            "Epoch: 6 | Batch 0/211 | Accuracy 0.98828125 | Loss: 0.024066\n",
            "256\n",
            "Epoch: 6 | Batch 50/211 | Accuracy 0.9838388480392157 | Loss: 0.040414\n",
            "256\n",
            "Epoch: 6 | Batch 100/211 | Accuracy 0.9831373762376238 | Loss: 0.108234\n",
            "256\n",
            "Epoch: 6 | Batch 150/211 | Accuracy 0.9833661009933775 | Loss: 0.034915\n",
            "256\n",
            "Epoch: 6 | Batch 200/211 | Accuracy 0.9835199004975125 | Loss: 0.024054\n",
            "256\n",
            "Epoch: 6 | Train Loss: 0.050323 | Train Acc: 251.729858 | Eval Loss: 0.059323 | Eval Acc: 245.958333\n",
            "Epoch: 7 | Batch 0/211 | Accuracy 0.984375 | Loss: 0.043406\n",
            "256\n",
            "Epoch: 7 | Batch 50/211 | Accuracy 0.9845281862745098 | Loss: 0.032872\n",
            "256\n",
            "Epoch: 7 | Batch 100/211 | Accuracy 0.9852645420792079 | Loss: 0.018076\n",
            "256\n",
            "Epoch: 7 | Batch 150/211 | Accuracy 0.9854356374172185 | Loss: 0.081768\n",
            "256\n",
            "Epoch: 7 | Batch 200/211 | Accuracy 0.9858519900497512 | Loss: 0.007531\n",
            "256\n",
            "Epoch: 7 | Train Loss: 0.045011 | Train Acc: 252.274882 | Eval Loss: 0.054025 | Eval Acc: 246.000000\n",
            "Epoch: 8 | Batch 0/211 | Accuracy 0.9921875 | Loss: 0.018857\n",
            "256\n",
            "Epoch: 8 | Batch 50/211 | Accuracy 0.9879748774509803 | Loss: 0.029827\n",
            "256\n",
            "Epoch: 8 | Batch 100/211 | Accuracy 0.9878944925742574 | Loss: 0.021243\n",
            "256\n",
            "Epoch: 8 | Batch 150/211 | Accuracy 0.988307119205298 | Loss: 0.067150\n",
            "256\n",
            "Epoch: 8 | Batch 200/211 | Accuracy 0.9880286069651741 | Loss: 0.038753\n",
            "256\n",
            "Epoch: 8 | Train Loss: 0.038213 | Train Acc: 252.876777 | Eval Loss: 0.057562 | Eval Acc: 246.083333\n",
            "Epoch: 9 | Batch 0/211 | Accuracy 0.984375 | Loss: 0.031302\n",
            "256\n",
            "Epoch: 9 | Batch 50/211 | Accuracy 0.9900428921568627 | Loss: 0.027921\n",
            "256\n",
            "Epoch: 9 | Batch 100/211 | Accuracy 0.989325495049505 | Loss: 0.048342\n",
            "256\n",
            "Epoch: 9 | Batch 150/211 | Accuracy 0.9891608029801324 | Loss: 0.034751\n",
            "256\n",
            "Epoch: 9 | Batch 200/211 | Accuracy 0.9890780472636815 | Loss: 0.013633\n",
            "256\n",
            "Epoch: 9 | Train Loss: 0.034976 | Train Acc: 253.127962 | Eval Loss: 0.060344 | Eval Acc: 245.416667\n",
            "Epoch: 10 | Batch 0/211 | Accuracy 0.99609375 | Loss: 0.013165\n",
            "256\n",
            "Epoch: 10 | Batch 50/211 | Accuracy 0.9911917892156863 | Loss: 0.021883\n",
            "256\n",
            "Epoch: 10 | Batch 100/211 | Accuracy 0.9900603341584159 | Loss: 0.026062\n",
            "256\n",
            "Epoch: 10 | Batch 150/211 | Accuracy 0.9900403559602649 | Loss: 0.065498\n",
            "256\n",
            "Epoch: 10 | Batch 200/211 | Accuracy 0.9900497512437811 | Loss: 0.022184\n",
            "256\n",
            "Epoch: 10 | Train Loss: 0.030741 | Train Acc: 253.398104 | Eval Loss: 0.055942 | Eval Acc: 246.500000\n"
          ]
        }
      ]
    },
    {
      "cell_type": "code",
      "source": [
        "test_data.transform = test_transforms\n",
        "\n",
        "test_dataloader = data.DataLoader(test_data, batch_size=BATCH_SIZE)\n",
        "\n",
        "model.load_state_dict(torch.load(os.path.join(save_model + 'best_model.pt')))\n",
        "model.eval()\n",
        "\n",
        "test_loss, test_acc = evaluate(model, criterion, test_dataloader, device)\n",
        "print(f'Test Loss: {test_loss:.6f} | Test Acc: {test_acc:.6f}')"
      ],
      "metadata": {
        "colab": {
          "base_uri": "https://localhost:8080/"
        },
        "id": "swM1dEXHx02K",
        "outputId": "b4ce9793-4d7d-4a75-bca5-90c8a27f7e01"
      },
      "execution_count": null,
      "outputs": [
        {
          "output_type": "stream",
          "name": "stderr",
          "text": [
            "<ipython-input-38-f127a25f86f5>:5: FutureWarning: You are using `torch.load` with `weights_only=False` (the current default value), which uses the default pickle module implicitly. It is possible to construct malicious pickle data which will execute arbitrary code during unpickling (See https://github.com/pytorch/pytorch/blob/main/SECURITY.md#untrusted-models for more details). In a future release, the default value for `weights_only` will be flipped to `True`. This limits the functions that could be executed during unpickling. Arbitrary objects will no longer be allowed to be loaded via this mode unless they are explicitly allowlisted by the user via `torch.serialization.add_safe_globals`. We recommend you start setting `weights_only=True` for any use case where you don't have full control of the loaded file. Please open an issue on GitHub for any issues related to this experimental feature.\n",
            "  model.load_state_dict(torch.load(os.path.join(save_model + 'best_model.pt')))\n"
          ]
        },
        {
          "output_type": "stream",
          "name": "stdout",
          "text": [
            "Test Loss: 0.040343 | Test Acc: 0.987400\n"
          ]
        }
      ]
    },
    {
      "cell_type": "code",
      "source": [
        "train_losses = [train_losses[i].cpu().detach().numpy() for i in range(len(train_losses))]\n",
        "eval_losses = [eval_losses[i].cpu().detach().numpy() for i in range(len(eval_losses))]"
      ],
      "metadata": {
        "colab": {
          "base_uri": "https://localhost:8080/",
          "height": 263
        },
        "id": "FPN_8keS2ffR",
        "outputId": "cb639103-63d2-4d0e-f836-bb186a1db72b"
      },
      "execution_count": null,
      "outputs": [
        {
          "output_type": "error",
          "ename": "AttributeError",
          "evalue": "'numpy.ndarray' object has no attribute 'cpu'",
          "traceback": [
            "\u001b[0;31m---------------------------------------------------------------------------\u001b[0m",
            "\u001b[0;31mAttributeError\u001b[0m                            Traceback (most recent call last)",
            "\u001b[0;32m<ipython-input-49-74992ab17ef5>\u001b[0m in \u001b[0;36m<cell line: 0>\u001b[0;34m()\u001b[0m\n\u001b[0;32m----> 1\u001b[0;31m \u001b[0mtrain_losses\u001b[0m \u001b[0;34m=\u001b[0m \u001b[0;34m[\u001b[0m\u001b[0mtrain_losses\u001b[0m\u001b[0;34m[\u001b[0m\u001b[0mi\u001b[0m\u001b[0;34m]\u001b[0m\u001b[0;34m.\u001b[0m\u001b[0mcpu\u001b[0m\u001b[0;34m(\u001b[0m\u001b[0;34m)\u001b[0m\u001b[0;34m.\u001b[0m\u001b[0mdetach\u001b[0m\u001b[0;34m(\u001b[0m\u001b[0;34m)\u001b[0m\u001b[0;34m.\u001b[0m\u001b[0mnumpy\u001b[0m\u001b[0;34m(\u001b[0m\u001b[0;34m)\u001b[0m \u001b[0;32mfor\u001b[0m \u001b[0mi\u001b[0m \u001b[0;32min\u001b[0m \u001b[0mrange\u001b[0m\u001b[0;34m(\u001b[0m\u001b[0mlen\u001b[0m\u001b[0;34m(\u001b[0m\u001b[0mtrain_losses\u001b[0m\u001b[0;34m)\u001b[0m\u001b[0;34m)\u001b[0m\u001b[0;34m]\u001b[0m\u001b[0;34m\u001b[0m\u001b[0;34m\u001b[0m\u001b[0m\n\u001b[0m\u001b[1;32m      2\u001b[0m \u001b[0meval_losses\u001b[0m \u001b[0;34m=\u001b[0m \u001b[0;34m[\u001b[0m\u001b[0meval_losses\u001b[0m\u001b[0;34m[\u001b[0m\u001b[0mi\u001b[0m\u001b[0;34m]\u001b[0m\u001b[0;34m.\u001b[0m\u001b[0mcpu\u001b[0m\u001b[0;34m(\u001b[0m\u001b[0;34m)\u001b[0m\u001b[0;34m.\u001b[0m\u001b[0mdetach\u001b[0m\u001b[0;34m(\u001b[0m\u001b[0;34m)\u001b[0m\u001b[0;34m.\u001b[0m\u001b[0mnumpy\u001b[0m\u001b[0;34m(\u001b[0m\u001b[0;34m)\u001b[0m \u001b[0;32mfor\u001b[0m \u001b[0mi\u001b[0m \u001b[0;32min\u001b[0m \u001b[0mrange\u001b[0m\u001b[0;34m(\u001b[0m\u001b[0mlen\u001b[0m\u001b[0;34m(\u001b[0m\u001b[0meval_losses\u001b[0m\u001b[0;34m)\u001b[0m\u001b[0;34m)\u001b[0m\u001b[0;34m]\u001b[0m\u001b[0;34m\u001b[0m\u001b[0;34m\u001b[0m\u001b[0m\n\u001b[1;32m      3\u001b[0m \u001b[0mtrain_accs\u001b[0m\u001b[0;34m\u001b[0m\u001b[0;34m\u001b[0m\u001b[0m\n",
            "\u001b[0;32m<ipython-input-49-74992ab17ef5>\u001b[0m in \u001b[0;36m<listcomp>\u001b[0;34m(.0)\u001b[0m\n\u001b[0;32m----> 1\u001b[0;31m \u001b[0mtrain_losses\u001b[0m \u001b[0;34m=\u001b[0m \u001b[0;34m[\u001b[0m\u001b[0mtrain_losses\u001b[0m\u001b[0;34m[\u001b[0m\u001b[0mi\u001b[0m\u001b[0;34m]\u001b[0m\u001b[0;34m.\u001b[0m\u001b[0mcpu\u001b[0m\u001b[0;34m(\u001b[0m\u001b[0;34m)\u001b[0m\u001b[0;34m.\u001b[0m\u001b[0mdetach\u001b[0m\u001b[0;34m(\u001b[0m\u001b[0;34m)\u001b[0m\u001b[0;34m.\u001b[0m\u001b[0mnumpy\u001b[0m\u001b[0;34m(\u001b[0m\u001b[0;34m)\u001b[0m \u001b[0;32mfor\u001b[0m \u001b[0mi\u001b[0m \u001b[0;32min\u001b[0m \u001b[0mrange\u001b[0m\u001b[0;34m(\u001b[0m\u001b[0mlen\u001b[0m\u001b[0;34m(\u001b[0m\u001b[0mtrain_losses\u001b[0m\u001b[0;34m)\u001b[0m\u001b[0;34m)\u001b[0m\u001b[0;34m]\u001b[0m\u001b[0;34m\u001b[0m\u001b[0;34m\u001b[0m\u001b[0m\n\u001b[0m\u001b[1;32m      2\u001b[0m \u001b[0meval_losses\u001b[0m \u001b[0;34m=\u001b[0m \u001b[0;34m[\u001b[0m\u001b[0meval_losses\u001b[0m\u001b[0;34m[\u001b[0m\u001b[0mi\u001b[0m\u001b[0;34m]\u001b[0m\u001b[0;34m.\u001b[0m\u001b[0mcpu\u001b[0m\u001b[0;34m(\u001b[0m\u001b[0;34m)\u001b[0m\u001b[0;34m.\u001b[0m\u001b[0mdetach\u001b[0m\u001b[0;34m(\u001b[0m\u001b[0;34m)\u001b[0m\u001b[0;34m.\u001b[0m\u001b[0mnumpy\u001b[0m\u001b[0;34m(\u001b[0m\u001b[0;34m)\u001b[0m \u001b[0;32mfor\u001b[0m \u001b[0mi\u001b[0m \u001b[0;32min\u001b[0m \u001b[0mrange\u001b[0m\u001b[0;34m(\u001b[0m\u001b[0mlen\u001b[0m\u001b[0;34m(\u001b[0m\u001b[0meval_losses\u001b[0m\u001b[0;34m)\u001b[0m\u001b[0;34m)\u001b[0m\u001b[0;34m]\u001b[0m\u001b[0;34m\u001b[0m\u001b[0;34m\u001b[0m\u001b[0m\n\u001b[1;32m      3\u001b[0m \u001b[0mtrain_accs\u001b[0m\u001b[0;34m\u001b[0m\u001b[0;34m\u001b[0m\u001b[0m\n",
            "\u001b[0;31mAttributeError\u001b[0m: 'numpy.ndarray' object has no attribute 'cpu'"
          ]
        }
      ]
    },
    {
      "cell_type": "code",
      "source": [
        "train_accs"
      ],
      "metadata": {
        "colab": {
          "base_uri": "https://localhost:8080/"
        },
        "id": "-o3yjaCC24EW",
        "outputId": "5e1f8b3f-b743-4b8d-b243-bea4efd4914a"
      },
      "execution_count": null,
      "outputs": [
        {
          "output_type": "execute_result",
          "data": {
            "text/plain": [
              "[210.72037914691944,\n",
              " 242.45497630331752,\n",
              " 248.01421800947867,\n",
              " 250.04265402843603,\n",
              " 251.1611374407583,\n",
              " 251.72985781990522,\n",
              " 252.27488151658767,\n",
              " 252.87677725118485,\n",
              " 253.12796208530807,\n",
              " 253.39810426540285]"
            ]
          },
          "metadata": {},
          "execution_count": 50
        }
      ]
    },
    {
      "cell_type": "code",
      "source": [
        "import matplotlib.pyplot as plt\n",
        "\n",
        "fig, ax = plt.subplots(1, 2, figsize=(10, 5))\n",
        "\n",
        "ax[0].plot(train_losses, label='Train Loss')\n",
        "ax[0].plot(eval_losses, label='Eval Loss')\n",
        "ax[0].legend()\n",
        "\n",
        "ax[1].plot(train_accs, label='Train Acc')\n",
        "ax[1].plot(eval_accs, label='Eval Acc')\n",
        "ax[1].legend()\n",
        "\n",
        "plt.show()"
      ],
      "metadata": {
        "colab": {
          "base_uri": "https://localhost:8080/",
          "height": 445
        },
        "id": "wsuYFwDh12S7",
        "outputId": "1d53e696-c135-4568-9796-4d3c0085bbe4"
      },
      "execution_count": null,
      "outputs": [
        {
          "output_type": "display_data",
          "data": {
            "text/plain": [
              "<Figure size 1000x500 with 2 Axes>"
            ],
            "image/png": "[encoded data removed]"
          },
          "metadata": {}
        }
      ]
    },
    {
      "cell_type": "markdown",
      "source": [
        "# Cassava Leaf Disease"
      ],
      "metadata": {
        "id": "FarvkNZW48dV"
      }
    },
    {
      "cell_type": "code",
      "source": [
        "!wget --no-check-certificate https://storage.googleapis.com/emcassavadata/cassavaleafdata.zip\n",
        "!unzip /content/cassavaleafdata.zip -d /content/cassavaleafdata"
      ],
      "metadata": {
        "id": "2_UuCRRQ2cD1"
      },
      "execution_count": null,
      "outputs": []
    },
    {
      "cell_type": "code",
      "source": [
        "!rm /content/cassavaleafdata.zip"
      ],
      "metadata": {
        "id": "FfdahegAAq87"
      },
      "execution_count": null,
      "outputs": []
    },
    {
      "cell_type": "code",
      "source": [
        "!rm -rf /content/cassavaleafdata"
      ],
      "metadata": {
        "id": "XYxEpbx9Ay5b"
      },
      "execution_count": null,
      "outputs": []
    },
    {
      "cell_type": "code",
      "source": [
        "!mv /content/cassavaleafdata/cassavaleafdata /content/cassavaleafdata1"
      ],
      "metadata": {
        "id": "_1tAl6n0AjMP"
      },
      "execution_count": null,
      "outputs": []
    },
    {
      "cell_type": "code",
      "source": [
        "data_paths = {\n",
        "    'train': './cassavaleafdata/train',\n",
        "    'valid': './cassavaleafdata/validation',\n",
        "    'test': './cassavaleafdata/test'\n",
        "}\n",
        "\n",
        "# load image from path\n",
        "def loader(path):\n",
        "    return Image.open(path)\n",
        "\n",
        "img_size = 150\n",
        "train_transforms = transforms.Compose([\n",
        "    transforms.Resize((150, 150)),\n",
        "    transforms.ToTensor(),\n",
        "    transforms.Grayscale()\n",
        "])\n",
        "\n",
        "train_data = datasets.ImageFolder(\n",
        "    root=data_paths['train'],\n",
        "    loader=loader,\n",
        "    transform=train_transforms\n",
        ")\n",
        "\n",
        "valid_data = datasets.ImageFolder(\n",
        "    root=data_paths['valid'],\n",
        "    transform=train_transforms\n",
        ")\n",
        "\n",
        "test_data = datasets.ImageFolder(\n",
        "    root=data_paths['test'],\n",
        "    transform=train_transforms\n",
        ")"
      ],
      "metadata": {
        "id": "Ys_OvGSz4_r_"
      },
      "execution_count": null,
      "outputs": []
    },
    {
      "cell_type": "code",
      "source": [
        "train_data"
      ],
      "metadata": {
        "colab": {
          "base_uri": "https://localhost:8080/"
        },
        "id": "pEWIlazaFkoj",
        "outputId": "2a06e8b1-8fbe-436f-d0e5-a08bea7c428e"
      },
      "execution_count": null,
      "outputs": [
        {
          "output_type": "execute_result",
          "data": {
            "text/plain": [
              "Dataset ImageFolder\n",
              "    Number of datapoints: 5656\n",
              "    Root location: ./cassavaleafdata/train\n",
              "    StandardTransform\n",
              "Transform: Compose(\n",
              "               Resize(size=(150, 150), interpolation=bilinear, max_size=None, antialias=True)\n",
              "               ToTensor()\n",
              "               Grayscale(num_output_channels=1)\n",
              "           )"
            ]
          },
          "metadata": {},
          "execution_count": 74
        }
      ]
    },
    {
      "cell_type": "code",
      "source": [
        "BATCH_SIZE = 256\n",
        "\n",
        "train_dataloader = data.DataLoader(train_data, batch_size=BATCH_SIZE, shuffle=True)\n",
        "valid_dataloader = data.DataLoader(valid_data, batch_size=BATCH_SIZE)"
      ],
      "metadata": {
        "id": "k7dRPwupFW6Y"
      },
      "execution_count": null,
      "outputs": []
    },
    {
      "cell_type": "code",
      "source": [
        "next(iter(train_dataloader))[0].shape"
      ],
      "metadata": {
        "colab": {
          "base_uri": "https://localhost:8080/"
        },
        "id": "iSWlfXeeGJSS",
        "outputId": "fe1e5eb3-139e-42c9-e759-9791e1c392e0"
      },
      "execution_count": null,
      "outputs": [
        {
          "output_type": "execute_result",
          "data": {
            "text/plain": [
              "torch.Size([256, 1, 150, 150])"
            ]
          },
          "metadata": {},
          "execution_count": 77
        }
      ]
    },
    {
      "cell_type": "code",
      "source": [
        "class LeNetClassifier(nn.Module):\n",
        "    def __init__(self, num_classes):\n",
        "        super(LeNetClassifier, self).__init__()\n",
        "        self.layers = nn.Sequential(\n",
        "            nn.Conv2d(in_channels=1, out_channels=6, kernel_size=5, padding='same'),\n",
        "            nn.AvgPool2d(kernel_size=2),\n",
        "            nn.ReLU(),\n",
        "            nn.Conv2d(6, 16, 5),\n",
        "            nn.AvgPool2d(2),\n",
        "            nn.ReLU(),\n",
        "            nn.Flatten(),\n",
        "            nn.Linear(16*35*35, 120),\n",
        "            nn.ReLU(),\n",
        "            nn.Linear(120, 84),\n",
        "            nn.ReLU(),\n",
        "            nn.Linear(84, num_classes)\n",
        "        )\n",
        "\n",
        "    def forward(self, x):\n",
        "        return self.layers(x)"
      ],
      "metadata": {
        "id": "L2Zo1P5RAWs0"
      },
      "execution_count": null,
      "outputs": []
    },
    {
      "cell_type": "code",
      "source": [
        "def train(model, optimizer, criterion, train_dataloader, device, epoch=0, log_interval=50):\n",
        "    model.train()\n",
        "    total_acc, total_count = 0, 0\n",
        "    losses = []\n",
        "    start_time = time.time()\n",
        "\n",
        "    for idx, (inputs, labels) in enumerate(train_dataloader):\n",
        "        inputs = inputs.to(device)\n",
        "        labels = labels.to(device)\n",
        "\n",
        "        optimizer.zero_grad()\n",
        "        predictions = model(inputs)\n",
        "\n",
        "        # compute loss\n",
        "        loss = criterion(predictions, labels)\n",
        "        losses.append(loss.item())\n",
        "\n",
        "        # backward\n",
        "        loss.backward()\n",
        "        torch.nn.utils.clip_grad_norm_(model.parameters(), 0.1)\n",
        "        optimizer.step()\n",
        "\n",
        "        total_acc += (predictions.argmax(1) == labels).sum().item()\n",
        "        total_count += labels.size(0)\n",
        "\n",
        "        if idx % log_interval == 0 and idx > 0:\n",
        "            elapsed = time.time() - start_time\n",
        "            print('| epoch {:3d} | {:5d}/{:5d} batches | '\n",
        "                  '| accuracy {:8.3f}'.format(\n",
        "                      epoch, idx, len(train_dataloader), total_acc / total_count\n",
        "                  ))\n",
        "\n",
        "            total_acc, total_count = 0, 0\n",
        "            start_time = time.time()\n",
        "\n",
        "    epoch_acc = total_acc / total_count\n",
        "    epoch_loss = sum(losses) / len(losses)\n",
        "\n",
        "    return epoch_acc, epoch_loss"
      ],
      "metadata": {
        "id": "t8oI7v5SBoi-"
      },
      "execution_count": null,
      "outputs": []
    },
    {
      "cell_type": "code",
      "source": [
        "def evaluation(model, criterion, valid_dataloader):\n",
        "    model.eval()\n",
        "    total_acc, total_count = 0, 0\n",
        "    losses = []\n",
        "\n",
        "    with torch.no_grad():\n",
        "        for idx, (inputs, labels) in enumerate(valid_dataloader):\n",
        "            inputs = inputs.to(device)\n",
        "            labels = labels.to(device)\n",
        "\n",
        "            predictions = model(inputs)\n",
        "            loss = criterion(predictions, labels)\n",
        "            losses.append(loss.item())\n",
        "\n",
        "            total_acc += (predictions.argmax(1) == labels).sum().item()\n",
        "            total_count += labels.size(0)\n",
        "\n",
        "    epoch_acc = total_acc / total_count\n",
        "    epoch_loss = sum(losses) / len(losses)\n",
        "\n",
        "    return epoch_acc, epoch_loss"
      ],
      "metadata": {
        "id": "bXEBG_zTCKlY"
      },
      "execution_count": null,
      "outputs": []
    },
    {
      "cell_type": "code",
      "source": [
        "import time\n",
        "\n",
        "num_classes = len(train_data.classes)\n",
        "device = torch.device(\"cuda\" if torch.cuda.is_available() else \"cpu\")\n",
        "lenet_model = LeNetClassifier(num_classes).to(device)\n",
        "criterion = torch.nn.CrossEntropyLoss()\n",
        "learning_rate = 2e-4\n",
        "optimizer = optim.Adam(lenet_model.parameters(), learning_rate)\n",
        "num_epochs = 10\n",
        "save_model = './model'\n",
        "os.makedirs(save_model, exist_ok=True)\n",
        "train_accs, train_losses = [], []\n",
        "eval_accs, eval_losses = [], []\n",
        "best_loss_eval = 100\n",
        "\n",
        "for epoch in range(1, num_epochs + 1):\n",
        "    epoch_start_time = time.time()\n",
        "    # Training\n",
        "    train_acc, train_loss = train(lenet_model, optimizer, criterion, train_dataloader, device, epoch, log_interval=10)\n",
        "    train_accs.append(train_acc)\n",
        "    train_losses.append(train_loss)\n",
        "\n",
        "    # Evaluation\n",
        "    eval_acc, eval_loss = evaluate(lenet_model, criterion, valid_dataloader)\n",
        "    eval_accs.append(eval_acc)\n",
        "    eval_losses.append(eval_loss)\n",
        "\n",
        "    # Save best model\n",
        "    if eval_loss < best_loss_eval:\n",
        "        best_loss_eval = eval_loss\n",
        "        torch.save(lenet_model.state_dict(), save_model + '/lenet_model.pt')\n",
        "\n",
        "    # Print loss and end epoch\n",
        "    print(\"|\" + \"-\" * 59)\n",
        "    print(\"| End of epoch {:3d} | Time: {:.2f}s | Train Accuracy: {:.3f} | Train Loss: \"\n",
        "          \"{:.3f} | Valid Accuracy: {:.3f} | Valid Loss: {:.3f}\".format(\n",
        "              epoch, time.time() - epoch_start_time, train_acc, train_loss, eval_acc, eval_loss\n",
        "          ))\n",
        "    print(\"|\" + \"-\" * 59)\n",
        "\n",
        "# Load best model\n",
        "print(\"|\" + \"-\" * 59)\n",
        "# Load best model\n",
        "lenet_model.load_state_dict(torch.load(save_model + '/lenet_model.pt'))\n",
        "lenet_model.eval()"
      ],
      "metadata": {
        "colab": {
          "base_uri": "https://localhost:8080/"
        },
        "id": "DWJGy2jBCYZi",
        "outputId": "1157c587-e17b-4b6f-9a83-084dcf9b342d"
      },
      "execution_count": null,
      "outputs": [
        {
          "output_type": "stream",
          "name": "stdout",
          "text": [
            "| epoch   1 |    10/   23 batches | | accuracy    0.438\n",
            "| epoch   1 |    20/   23 batches | | accuracy    0.480\n",
            "|-----------------------------------------------------------\n",
            "| End of epoch   1 | Time: 127.70s | Train Accuracy: 0.482 | Train Loss: 1.376 | Valid Accuracy: 1.461 | Valid Loss: 0.470\n",
            "|-----------------------------------------------------------\n",
            "| epoch   2 |    10/   23 batches | | accuracy    0.470\n",
            "| epoch   2 |    20/   23 batches | | accuracy    0.474\n",
            "|-----------------------------------------------------------\n",
            "| End of epoch   2 | Time: 125.18s | Train Accuracy: 0.436 | Train Loss: 1.347 | Valid Accuracy: 1.447 | Valid Loss: 0.470\n",
            "|-----------------------------------------------------------\n",
            "| epoch   3 |    10/   23 batches | | accuracy    0.477\n",
            "| epoch   3 |    20/   23 batches | | accuracy    0.464\n",
            "|-----------------------------------------------------------\n",
            "| End of epoch   3 | Time: 126.28s | Train Accuracy: 0.454 | Train Loss: 1.324 | Valid Accuracy: 1.459 | Valid Loss: 0.470\n",
            "|-----------------------------------------------------------\n",
            "| epoch   4 |    10/   23 batches | | accuracy    0.468\n",
            "| epoch   4 |    20/   23 batches | | accuracy    0.473\n",
            "|-----------------------------------------------------------\n",
            "| End of epoch   4 | Time: 125.96s | Train Accuracy: 0.464 | Train Loss: 1.324 | Valid Accuracy: 1.441 | Valid Loss: 0.470\n",
            "|-----------------------------------------------------------\n",
            "| epoch   5 |    10/   23 batches | | accuracy    0.472\n",
            "| epoch   5 |    20/   23 batches | | accuracy    0.476\n",
            "|-----------------------------------------------------------\n",
            "| End of epoch   5 | Time: 126.41s | Train Accuracy: 0.396 | Train Loss: 1.313 | Valid Accuracy: 1.435 | Valid Loss: 0.470\n",
            "|-----------------------------------------------------------\n",
            "| epoch   6 |    10/   23 batches | | accuracy    0.473\n",
            "| epoch   6 |    20/   23 batches | | accuracy    0.470\n",
            "|-----------------------------------------------------------\n",
            "| End of epoch   6 | Time: 125.36s | Train Accuracy: 0.450 | Train Loss: 1.305 | Valid Accuracy: 1.426 | Valid Loss: 0.478\n",
            "|-----------------------------------------------------------\n",
            "| epoch   7 |    10/   23 batches | | accuracy    0.462\n",
            "| epoch   7 |    20/   23 batches | | accuracy    0.488\n",
            "|-----------------------------------------------------------\n",
            "| End of epoch   7 | Time: 128.62s | Train Accuracy: 0.468 | Train Loss: 1.312 | Valid Accuracy: 1.444 | Valid Loss: 0.470\n",
            "|-----------------------------------------------------------\n",
            "| epoch   8 |    10/   23 batches | | accuracy    0.486\n",
            "| epoch   8 |    20/   23 batches | | accuracy    0.472\n",
            "|-----------------------------------------------------------\n",
            "| End of epoch   8 | Time: 129.14s | Train Accuracy: 0.439 | Train Loss: 1.291 | Valid Accuracy: 1.428 | Valid Loss: 0.487\n",
            "|-----------------------------------------------------------\n",
            "| epoch   9 |    10/   23 batches | | accuracy    0.482\n",
            "| epoch   9 |    20/   23 batches | | accuracy    0.496\n",
            "|-----------------------------------------------------------\n",
            "| End of epoch   9 | Time: 134.68s | Train Accuracy: 0.514 | Train Loss: 1.279 | Valid Accuracy: 1.413 | Valid Loss: 0.511\n",
            "|-----------------------------------------------------------\n",
            "| epoch  10 |    10/   23 batches | | accuracy    0.495\n",
            "| epoch  10 |    20/   23 batches | | accuracy    0.511\n",
            "|-----------------------------------------------------------\n",
            "| End of epoch  10 | Time: 125.27s | Train Accuracy: 0.475 | Train Loss: 1.275 | Valid Accuracy: 1.438 | Valid Loss: 0.488\n",
            "|-----------------------------------------------------------\n",
            "|-----------------------------------------------------------\n"
          ]
        },
        {
          "output_type": "stream",
          "name": "stderr",
          "text": [
            "<ipython-input-93-0875d5bebeb8>:44: FutureWarning: You are using `torch.load` with `weights_only=False` (the current default value), which uses the default pickle module implicitly. It is possible to construct malicious pickle data which will execute arbitrary code during unpickling (See https://github.com/pytorch/pytorch/blob/main/SECURITY.md#untrusted-models for more details). In a future release, the default value for `weights_only` will be flipped to `True`. This limits the functions that could be executed during unpickling. Arbitrary objects will no longer be allowed to be loaded via this mode unless they are explicitly allowlisted by the user via `torch.serialization.add_safe_globals`. We recommend you start setting `weights_only=True` for any use case where you don't have full control of the loaded file. Please open an issue on GitHub for any issues related to this experimental feature.\n",
            "  lenet_model.load_state_dict(torch.load(save_model + '/lenet_model.pt'))\n"
          ]
        },
        {
          "output_type": "execute_result",
          "data": {
            "text/plain": [
              "LeNetClassifier(\n",
              "  (layers): Sequential(\n",
              "    (0): Conv2d(1, 6, kernel_size=(5, 5), stride=(1, 1), padding=same)\n",
              "    (1): AvgPool2d(kernel_size=2, stride=2, padding=0)\n",
              "    (2): ReLU()\n",
              "    (3): Conv2d(6, 16, kernel_size=(5, 5), stride=(1, 1))\n",
              "    (4): AvgPool2d(kernel_size=2, stride=2, padding=0)\n",
              "    (5): ReLU()\n",
              "    (6): Flatten(start_dim=1, end_dim=-1)\n",
              "    (7): Linear(in_features=19600, out_features=120, bias=True)\n",
              "    (8): ReLU()\n",
              "    (9): Linear(in_features=120, out_features=84, bias=True)\n",
              "    (10): ReLU()\n",
              "    (11): Linear(in_features=84, out_features=5, bias=True)\n",
              "  )\n",
              ")"
            ]
          },
          "metadata": {},
          "execution_count": 93
        }
      ]
    },
    {
      "cell_type": "code",
      "source": [
        "test_dataloader = data.DataLoader(test_data, batch_size=BATCH_SIZE)"
      ],
      "metadata": {
        "id": "c6j0UlI1RGEo"
      },
      "execution_count": null,
      "outputs": []
    },
    {
      "cell_type": "code",
      "source": [
        "test_acc, test_loss = evaluate(lenet_model, criterion, test_dataloader)\n",
        "test_acc, test_loss"
      ],
      "metadata": {
        "colab": {
          "base_uri": "https://localhost:8080/"
        },
        "id": "uBk_viPCDIbv",
        "outputId": "e3118ff1-85e4-424d-b48d-7b25f5169df1"
      },
      "execution_count": null,
      "outputs": [
        {
          "output_type": "execute_result",
          "data": {
            "text/plain": [
              "(tensor(1.4629), 0.470026525198939)"
            ]
          },
          "metadata": {},
          "execution_count": 96
        }
      ]
    },
    {
      "cell_type": "code",
      "source": [],
      "metadata": {
        "id": "VIwbHwWeGQlh"
      },
      "execution_count": null,
      "outputs": []
    }
  ],
  "metadata": {
    "colab": {
      "provenance": [],
      "mount_file_id": "1iTFGes9iDYmAD28z4gGg7xpxCZ8Sl0nL",
      "authorship_tag": "ABX9TyPDmbkKTpb2BwhEV33Z8+ry",
      "include_colab_link": true
    },
    "kernelspec": {
      "display_name": "Python 3",
      "name": "python3"
    },
    "language_info": {
      "name": "python"
    }
  },
  "nbformat": 4,
  "nbformat_minor": 0
}